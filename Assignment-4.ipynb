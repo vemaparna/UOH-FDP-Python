{
 "cells": [
  {
   "cell_type": "markdown",
   "metadata": {},
   "source": [
    "## Assignment 14-08-2020"
   ]
  },
  {
   "cell_type": "markdown",
   "metadata": {},
   "source": [
    "**1.create an array with the values from 0 .. 23. And Check its attributes.\n",
    "Then Reshape it as (2* 12),(3* 8), (4* 6),; (2* 2* 6), (2* 4* 3),(3* 4* 2),.... and check its attributes.**\n"
   ]
  },
  {
   "cell_type": "code",
   "execution_count": 24,
   "metadata": {},
   "outputs": [
    {
     "name": "stdout",
     "output_type": "stream",
     "text": [
      "[[ 0  1  2  3  4  5  6  7  8  9 10 11]\n",
      " [12 13 14 15 16 17 18 19 20 21 22 23]]\n",
      "<class 'numpy.ndarray'>\n",
      "2\n",
      "24\n",
      "(2, 12)\n",
      "int32\n",
      "4\n"
     ]
    }
   ],
   "source": [
    "import numpy as np\n",
    "a = np.arange(24).reshape(2,12)\n",
    "print(a)\n",
    "print(type(a))\n",
    "print(a.ndim)\n",
    "print (a.size)\n",
    "print (a.shape)\n",
    "print(a.dtype)\n",
    "print(a.itemsize)"
   ]
  },
  {
   "cell_type": "code",
   "execution_count": 28,
   "metadata": {},
   "outputs": [
    {
     "name": "stdout",
     "output_type": "stream",
     "text": [
      "<class 'numpy.ndarray'>\n",
      "2\n",
      "24\n",
      "(3, 8)\n",
      "int32\n",
      "4\n"
     ]
    }
   ],
   "source": [
    "b = a.reshape(3,8)\n",
    "print(type(b))\n",
    "print(b.ndim)\n",
    "print (b.size)\n",
    "print (b.shape)\n",
    "print(b.dtype)\n",
    "print(b.itemsize)"
   ]
  },
  {
   "cell_type": "code",
   "execution_count": 29,
   "metadata": {},
   "outputs": [
    {
     "name": "stdout",
     "output_type": "stream",
     "text": [
      "[[ 0  1  2  3  4  5]\n",
      " [ 6  7  8  9 10 11]\n",
      " [12 13 14 15 16 17]\n",
      " [18 19 20 21 22 23]]\n",
      "<class 'numpy.ndarray'>\n",
      "2\n",
      "24\n",
      "(4, 6)\n",
      "int32\n",
      "4\n"
     ]
    }
   ],
   "source": [
    "c= a.reshape(4,6)\n",
    "print(c)\n",
    "print(type(c))\n",
    "print(c.ndim)\n",
    "print (c.size)\n",
    "print (c.shape)\n",
    "print(c.dtype)\n",
    "print(c.itemsize)"
   ]
  },
  {
   "cell_type": "code",
   "execution_count": 31,
   "metadata": {},
   "outputs": [
    {
     "name": "stdout",
     "output_type": "stream",
     "text": [
      "[[[ 0  1  2  3  4  5]\n",
      "  [ 6  7  8  9 10 11]]\n",
      "\n",
      " [[12 13 14 15 16 17]\n",
      "  [18 19 20 21 22 23]]]\n",
      "<class 'numpy.ndarray'>\n",
      "3\n",
      "24\n",
      "(2, 2, 6)\n",
      "4\n",
      "int32\n"
     ]
    }
   ],
   "source": [
    "d = a.reshape(2,2,6)\n",
    "print(d)\n",
    "print(type(d))\n",
    "print(d.ndim)\n",
    "print(d.size)\n",
    "print(d.shape)\n",
    "print(d.itemsize)\n",
    "print(d.dtype)"
   ]
  },
  {
   "cell_type": "code",
   "execution_count": 50,
   "metadata": {},
   "outputs": [
    {
     "name": "stdout",
     "output_type": "stream",
     "text": [
      "[[[ 0  1  2]\n",
      "  [ 3  4  5]\n",
      "  [ 6  7  8]\n",
      "  [ 9 10 11]]\n",
      "\n",
      " [[12 13 14]\n",
      "  [15 16 17]\n",
      "  [18 19 20]\n",
      "  [21 22 23]]]\n",
      "<class 'numpy.ndarray'>\n",
      "(2, 4, 3)\n",
      "24\n",
      "3\n",
      "int32\n",
      "4\n"
     ]
    }
   ],
   "source": [
    "e = a.reshape(2,4,3)\n",
    "print(e)\n",
    "print(type(e))\n",
    "print(e.shape)\n",
    "print(e.size)\n",
    "print(e.ndim)\n",
    "print(e.dtype)\n",
    "print(e.itemsize)"
   ]
  },
  {
   "cell_type": "code",
   "execution_count": 33,
   "metadata": {},
   "outputs": [
    {
     "name": "stdout",
     "output_type": "stream",
     "text": [
      "[[[ 0  1]\n",
      "  [ 2  3]\n",
      "  [ 4  5]\n",
      "  [ 6  7]]\n",
      "\n",
      " [[ 8  9]\n",
      "  [10 11]\n",
      "  [12 13]\n",
      "  [14 15]]\n",
      "\n",
      " [[16 17]\n",
      "  [18 19]\n",
      "  [20 21]\n",
      "  [22 23]]]\n",
      "<class 'numpy.ndarray'>\n",
      "24\n",
      "(3, 4, 2)\n",
      "3\n",
      "int32\n",
      "4\n"
     ]
    }
   ],
   "source": [
    "f =a.reshape(3,4,2)\n",
    "print(f)\n",
    "print(type(f))\n",
    "print(f.size)\n",
    "print(f.shape)\n",
    "print(f.ndim)\n",
    "print(f.dtype)\n",
    "print(f.itemsize)"
   ]
  },
  {
   "cell_type": "markdown",
   "metadata": {},
   "source": [
    "**2.Apply a user defined function using vectorize to get the maximum of two arrays\n",
    "Example : Array1 =  [5,7,9,8,6,4,5]\n",
    "\t     Array2 = [6,3,4,8,9,7,1]\n",
    "     Output : [6,7,9,8,9,7,5]**\n"
   ]
  },
  {
   "cell_type": "code",
   "execution_count": 33,
   "metadata": {},
   "outputs": [
    {
     "data": {
      "text/plain": [
       "array([5, 3, 4, 8, 6, 4, 1])"
      ]
     },
     "execution_count": 33,
     "metadata": {},
     "output_type": "execute_result"
    }
   ],
   "source": [
    "def compare(x,y):\n",
    "    return min(x,y)\n",
    "arr1 = [5,7,9,8,6,4,5]\n",
    "arr2 = [6,3,4,8,9,7,1]\n",
    "c = np.vectorize(compare)\n",
    "c(arr1,arr2)"
   ]
  },
  {
   "cell_type": "markdown",
   "metadata": {},
   "source": [
    "**3.Write a Numpy program to generate six random integers between 10 and 30**"
   ]
  },
  {
   "cell_type": "code",
   "execution_count": 71,
   "metadata": {},
   "outputs": [
    {
     "data": {
      "text/plain": [
       "array([29, 15, 19, 26, 10, 15])"
      ]
     },
     "execution_count": 71,
     "metadata": {},
     "output_type": "execute_result"
    }
   ],
   "source": [
    "np.random.randint(10,30,6)"
   ]
  },
  {
   "cell_type": "markdown",
   "metadata": {},
   "source": [
    "**4.Get all the items between 5 and 10 from Array A.\n",
    "A = np.array([2,6,1,9,10,3,27])**\n"
   ]
  },
  {
   "cell_type": "code",
   "execution_count": 35,
   "metadata": {},
   "outputs": [
    {
     "name": "stdout",
     "output_type": "stream",
     "text": [
      "[6 9]\n"
     ]
    }
   ],
   "source": [
    "import numpy as np\n",
    "a = np.array([2,6,1,9,10,27])\n",
    "c = (a > 5) & (a <10)\n",
    "print(a[c])\n"
   ]
  },
  {
   "cell_type": "markdown",
   "metadata": {},
   "source": [
    "**5.Extract all odd numbers from the array.**"
   ]
  },
  {
   "cell_type": "code",
   "execution_count": 22,
   "metadata": {},
   "outputs": [
    {
     "data": {
      "text/plain": [
       "array([ 1,  9,  3, 27])"
      ]
     },
     "execution_count": 22,
     "metadata": {},
     "output_type": "execute_result"
    }
   ],
   "source": [
    "a = np.array([2,6,1,9,10,3,27])\n",
    "b = (a%2 != 0)\n",
    "a[b]"
   ]
  }
 ],
 "metadata": {
  "kernelspec": {
   "display_name": "Python 3",
   "language": "python",
   "name": "python3"
  },
  "language_info": {
   "codemirror_mode": {
    "name": "ipython",
    "version": 3
   },
   "file_extension": ".py",
   "mimetype": "text/x-python",
   "name": "python",
   "nbconvert_exporter": "python",
   "pygments_lexer": "ipython3",
   "version": "3.7.6"
  }
 },
 "nbformat": 4,
 "nbformat_minor": 4
}
