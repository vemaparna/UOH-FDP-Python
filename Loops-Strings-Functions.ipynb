{
 "cells": [
  {
   "cell_type": "markdown",
   "metadata": {},
   "source": [
    "## Loops"
   ]
  },
  {
   "cell_type": "markdown",
   "metadata": {},
   "source": [
    "### 1. While Loops"
   ]
  },
  {
   "cell_type": "markdown",
   "metadata": {},
   "source": [
    "1. Printing Hello on the screen 5 times"
   ]
  },
  {
   "cell_type": "code",
   "execution_count": 5,
   "metadata": {},
   "outputs": [
    {
     "name": "stdout",
     "output_type": "stream",
     "text": [
      "Hello World!\n",
      "Hello World!\n",
      "Hello World!\n",
      "Hello World!\n",
      "Hello World!\n"
     ]
    }
   ],
   "source": [
    "i = 1\n",
    "while i <= 5:\n",
    "    print(\"Hello World!\")\n",
    "    i = i + 1"
   ]
  },
  {
   "cell_type": "markdown",
   "metadata": {},
   "source": [
    "2. Print the numbers in reverse order from the given number"
   ]
  },
  {
   "cell_type": "code",
   "execution_count": 26,
   "metadata": {},
   "outputs": [
    {
     "name": "stdout",
     "output_type": "stream",
     "text": [
      "Enter the Number:4\n",
      "4 3 2 1 "
     ]
    }
   ],
   "source": [
    "x = int(input(\"Enter the Number:\"))\n",
    "\n",
    "while x > 0:\n",
    "    print (x, end = \" \")\n",
    "    x -= 1"
   ]
  },
  {
   "cell_type": "markdown",
   "metadata": {},
   "source": [
    "3. check whether a given number is a palindrome or not?"
   ]
  },
  {
   "cell_type": "code",
   "execution_count": 18,
   "metadata": {},
   "outputs": [
    {
     "name": "stdout",
     "output_type": "stream",
     "text": [
      "Enter the Number:12321\n",
      " its a Palindrome\n"
     ]
    }
   ],
   "source": [
    "n = int(input(\"Enter the Number:\"))\n",
    "buffer = n\n",
    "rev =0\n",
    "while n != 0:\n",
    "    rev = (rev *10) + (n%10)\n",
    "    n //= 10\n",
    "if rev == buffer:\n",
    "    print(\" its a Palindrome\")\n",
    "else:\n",
    "    print(\" Its  not a Palindrome\" )\n",
    "\n",
    "    \n"
   ]
  },
  {
   "cell_type": "markdown",
   "metadata": {},
   "source": [
    "4. Using ternerary Operator in the above example replacing **if - else** lines"
   ]
  },
  {
   "cell_type": "code",
   "execution_count": 19,
   "metadata": {},
   "outputs": [
    {
     "name": "stdout",
     "output_type": "stream",
     "text": [
      "Enter the Number:12321\n",
      " its a Palindrome\n"
     ]
    }
   ],
   "source": [
    "n = int(input(\"Enter the Number:\"))\n",
    "buffer = n\n",
    "rev =0\n",
    "while n != 0:\n",
    "    rev = (rev *10) + (n%10)\n",
    "    n //= 10\n",
    "print(\" its a Palindrome\") if rev == buffer else print(\" Its  not a Palindrome\" )\n",
    "    \n",
    "    "
   ]
  },
  {
   "cell_type": "code",
   "execution_count": 21,
   "metadata": {},
   "outputs": [
    {
     "name": "stdout",
     "output_type": "stream",
     "text": [
      "3.3333333333333335\n",
      "3\n",
      "1\n"
     ]
    }
   ],
   "source": [
    "a =3\n",
    "b =10\n",
    "print(b/a)\n",
    "print(b//a)\n",
    "print(b%a)"
   ]
  },
  {
   "cell_type": "markdown",
   "metadata": {},
   "source": [
    "## 2. For Loop"
   ]
  },
  {
   "cell_type": "markdown",
   "metadata": {},
   "source": [
    "1. using for loop in the range\n",
    "#### Syntax\n",
    " for in range(start, stop, step):\n",
    "     statements"
   ]
  },
  {
   "cell_type": "markdown",
   "metadata": {},
   "source": [
    "ex: printing 1-10 using for loop"
   ]
  },
  {
   "cell_type": "code",
   "execution_count": 22,
   "metadata": {},
   "outputs": [
    {
     "name": "stdout",
     "output_type": "stream",
     "text": [
      "Enter your Number:10\n",
      "1 2 3 4 5 6 7 8 9 10 "
     ]
    }
   ],
   "source": [
    "n = int(input(\"Enter your Number:\"))\n",
    "for n in range(1, n+1, 1):\n",
    "    print(n, end=\" \")"
   ]
  },
  {
   "cell_type": "code",
   "execution_count": 23,
   "metadata": {},
   "outputs": [
    {
     "name": "stdout",
     "output_type": "stream",
     "text": [
      "Enter your Number:10\n",
      "0 1 2 3 4 5 6 7 8 9 10 "
     ]
    }
   ],
   "source": [
    "n = int(input(\"Enter your Number:\"))\n",
    "for n in range(11):\n",
    "    print(n, end=\" \")"
   ]
  },
  {
   "cell_type": "markdown",
   "metadata": {},
   "source": [
    "Print n to 1 values"
   ]
  },
  {
   "cell_type": "code",
   "execution_count": 25,
   "metadata": {},
   "outputs": [
    {
     "name": "stdout",
     "output_type": "stream",
     "text": [
      "Enter your Number:10\n",
      "10 9 8 7 6 5 4 3 2 "
     ]
    }
   ],
   "source": [
    "n = int(input(\"Enter your Number:\"))\n",
    "for n in range(n, 1, -1):\n",
    "    print(n, end=\" \")"
   ]
  },
  {
   "cell_type": "markdown",
   "metadata": {},
   "source": [
    "### For Loops with iterable Objects"
   ]
  },
  {
   "cell_type": "code",
   "execution_count": 30,
   "metadata": {},
   "outputs": [
    {
     "name": "stdout",
     "output_type": "stream",
     "text": [
      "Enter your Name:Aparna\n",
      "A\n",
      "p\n",
      "a\n",
      "r\n",
      "n\n",
      "a\n"
     ]
    }
   ],
   "source": [
    "name = input(\"Enter your Name:\")\n",
    "i = 0\n",
    "while i < len(name):\n",
    "    print(name[i])\n",
    "    i += 1"
   ]
  },
  {
   "cell_type": "code",
   "execution_count": 32,
   "metadata": {},
   "outputs": [
    {
     "name": "stdout",
     "output_type": "stream",
     "text": [
      "A\n",
      "p\n",
      "a\n",
      "r\n",
      "n\n",
      "a\n"
     ]
    }
   ],
   "source": [
    "for i in name:\n",
    "    print(i)"
   ]
  },
  {
   "cell_type": "markdown",
   "metadata": {},
   "source": [
    "### when is while and for loops used\n",
    "- when u donot know how many iterations - use while loops\n",
    "- if number of iterations are known - use for loop"
   ]
  },
  {
   "cell_type": "markdown",
   "metadata": {},
   "source": [
    "## Strings"
   ]
  },
  {
   "cell_type": "markdown",
   "metadata": {},
   "source": [
    "1. used in \"\" or ''\n",
    "2. not mutable\n",
    "3. Indexing positive indexing starts from 0 and negative indexing from -1"
   ]
  },
  {
   "cell_type": "code",
   "execution_count": 10,
   "metadata": {},
   "outputs": [
    {
     "name": "stdout",
     "output_type": "stream",
     "text": [
      "a\n",
      "abc\n",
      "cxyz\n",
      "xyz\n",
      "zyxcba\n"
     ]
    }
   ],
   "source": [
    "s1 = \"abc\"\n",
    "s2 = \"xyz\"\n",
    "#s1[0] ='p' strings are not mutable\n",
    "s3 = s1+s2\n",
    "print (s1[0])\n",
    "print(s1[:])\n",
    "print(s3[2:])\n",
    "print (s3[-3:])\n",
    "print(s3[-1::-1])"
   ]
  },
  {
   "cell_type": "markdown",
   "metadata": {},
   "source": [
    "1. Accept a string from User and check whether it is a Palindrome or not\n"
   ]
  },
  {
   "cell_type": "code",
   "execution_count": 14,
   "metadata": {},
   "outputs": [
    {
     "name": "stdout",
     "output_type": "stream",
     "text": [
      "Enter a string:MadaM\n",
      "It is  a Palindrome\n"
     ]
    }
   ],
   "source": [
    "s = input(\"Enter a string:\")\n",
    "\n",
    "print(\"It is  a Palindrome\") if s[::-1] == s else print(\"not a Palindrome\")"
   ]
  },
  {
   "cell_type": "code",
   "execution_count": 17,
   "metadata": {},
   "outputs": [
    {
     "name": "stdout",
     "output_type": "stream",
     "text": [
      "Enter a string:12321\n",
      "It is  a Palindrome\n"
     ]
    }
   ],
   "source": [
    "n = int(input(\"Enter a string:\"))\n",
    "\n",
    "print(\"It is  a Palindrome\") if str(n)[::-1] == str(n) else print(\"not a Palindrome\")"
   ]
  },
  {
   "cell_type": "code",
   "execution_count": 18,
   "metadata": {},
   "outputs": [],
   "source": [
    "## wite a word in reverse order"
   ]
  },
  {
   "cell_type": "code",
   "execution_count": null,
   "metadata": {},
   "outputs": [],
   "source": []
  },
  {
   "cell_type": "markdown",
   "metadata": {},
   "source": [
    "### Built in-functions\n",
    "1. len\n",
    "2. str\n",
    "3. min - if u have alphabets and numerics -comaprison will be based on ascii values\n",
    "4. max\n",
    "5. ord - gives the acsii values\n",
    "6. chr - gives the character for a given ascii value"
   ]
  },
  {
   "cell_type": "code",
   "execution_count": 24,
   "metadata": {},
   "outputs": [
    {
     "name": "stdout",
     "output_type": "stream",
     "text": [
      "1\n",
      "c\n",
      "97\n",
      "1\n"
     ]
    }
   ],
   "source": [
    "s = \"abc123\"\n",
    "print(min(s))\n",
    "print(max(s))\n",
    "print(ord('a'))\n",
    "print(chr(49))"
   ]
  },
  {
   "cell_type": "markdown",
   "metadata": {},
   "source": [
    "### Built in Methods\n",
    "can get from\n",
    "  - help('str')"
   ]
  },
  {
   "cell_type": "code",
   "execution_count": 32,
   "metadata": {},
   "outputs": [
    {
     "name": "stdout",
     "output_type": "stream",
     "text": [
      "good morning!\n",
      "Good morning!\n"
     ]
    }
   ],
   "source": [
    "s1 = 'good morning!'\n",
    "s1.capitalize()\n",
    "print(s1)\n",
    "s1 = s1.capitalize()\n",
    "print(s1)"
   ]
  },
  {
   "cell_type": "code",
   "execution_count": 33,
   "metadata": {},
   "outputs": [
    {
     "data": {
      "text/plain": [
       "False"
      ]
     },
     "execution_count": 33,
     "metadata": {},
     "output_type": "execute_result"
    }
   ],
   "source": [
    "s1 = \"good morning\"\n",
    "s2 = \"GOOD MORNING\"\n",
    "s1 == s2"
   ]
  },
  {
   "cell_type": "code",
   "execution_count": 34,
   "metadata": {},
   "outputs": [
    {
     "data": {
      "text/plain": [
       "True"
      ]
     },
     "execution_count": 34,
     "metadata": {},
     "output_type": "execute_result"
    }
   ],
   "source": [
    "s1 = \"good morning\"\n",
    "s2 = \"GOOD MORNING\"\n",
    "s1.casefold() == s2.casefold()"
   ]
  },
  {
   "cell_type": "code",
   "execution_count": 35,
   "metadata": {},
   "outputs": [
    {
     "data": {
      "text/plain": [
       "3"
      ]
     },
     "execution_count": 35,
     "metadata": {},
     "output_type": "execute_result"
    }
   ],
   "source": [
    "s4 = \"abcsxrabcyzfabcjhk\"\n",
    "s4.count(\"abc\")"
   ]
  },
  {
   "cell_type": "code",
   "execution_count": 36,
   "metadata": {},
   "outputs": [
    {
     "data": {
      "text/plain": [
       "18"
      ]
     },
     "execution_count": 36,
     "metadata": {},
     "output_type": "execute_result"
    }
   ],
   "source": [
    "len(s4)"
   ]
  },
  {
   "cell_type": "code",
   "execution_count": 39,
   "metadata": {},
   "outputs": [
    {
     "name": "stdout",
     "output_type": "stream",
     "text": [
      "True\n",
      "False\n",
      "False\n"
     ]
    }
   ],
   "source": [
    "s5 =\"abc\"\n",
    "s6 = \"123\"\n",
    "s7 = \"abc123\"\n",
    "print(s5.isalpha())\n",
    "print(s6.isalpha())\n",
    "print(s7.isalpha())"
   ]
  },
  {
   "cell_type": "code",
   "execution_count": 40,
   "metadata": {},
   "outputs": [
    {
     "name": "stdout",
     "output_type": "stream",
     "text": [
      "False\n",
      "True\n",
      "False\n"
     ]
    }
   ],
   "source": [
    "print(s5.isdigit())\n",
    "print(s6.isdigit())\n",
    "print(s7.isdigit())"
   ]
  },
  {
   "cell_type": "code",
   "execution_count": 44,
   "metadata": {},
   "outputs": [
    {
     "name": "stdout",
     "output_type": "stream",
     "text": [
      "True\n",
      "True\n",
      "True\n"
     ]
    }
   ],
   "source": [
    "print(s5.isalnum())\n",
    "print(s6.isalnum())\n",
    "print(s7.isalnum())"
   ]
  },
  {
   "cell_type": "code",
   "execution_count": 45,
   "metadata": {},
   "outputs": [
    {
     "name": "stdout",
     "output_type": "stream",
     "text": [
      "False\n"
     ]
    }
   ],
   "source": [
    "s8 = \"abc xyz\"\n",
    "print(s8.isalnum()) # space is a special character hence isalnum is false"
   ]
  },
  {
   "cell_type": "code",
   "execution_count": 49,
   "metadata": {},
   "outputs": [
    {
     "name": "stdout",
     "output_type": "stream",
     "text": [
      "False\n",
      "True\n",
      "True\n"
     ]
    }
   ],
   "source": [
    "s9 = \"abcABC\"\n",
    "s10 = \"abc\"\n",
    "s11 = \"ABC\"\n",
    "print(s9.islower())\n",
    "print(s10.islower())\n",
    "print(s11.isupper())"
   ]
  },
  {
   "cell_type": "code",
   "execution_count": 50,
   "metadata": {},
   "outputs": [
    {
     "data": {
      "text/plain": [
       "'abcabc'"
      ]
     },
     "execution_count": 50,
     "metadata": {},
     "output_type": "execute_result"
    }
   ],
   "source": [
    "s9.lower()"
   ]
  },
  {
   "cell_type": "code",
   "execution_count": 51,
   "metadata": {},
   "outputs": [
    {
     "data": {
      "text/plain": [
       "'ABCABC'"
      ]
     },
     "execution_count": 51,
     "metadata": {},
     "output_type": "execute_result"
    }
   ],
   "source": [
    "s9.upper()"
   ]
  },
  {
   "cell_type": "code",
   "execution_count": 52,
   "metadata": {},
   "outputs": [
    {
     "data": {
      "text/plain": [
       "'abpxyz'"
      ]
     },
     "execution_count": 52,
     "metadata": {},
     "output_type": "execute_result"
    }
   ],
   "source": [
    "s = \"abcxyz\"\n",
    "s.replace(\"c\", \"p\")"
   ]
  },
  {
   "cell_type": "code",
   "execution_count": 53,
   "metadata": {},
   "outputs": [
    {
     "data": {
      "text/plain": [
       "'abc123'"
      ]
     },
     "execution_count": 53,
     "metadata": {},
     "output_type": "execute_result"
    }
   ],
   "source": [
    "s.replace(\"xyz\", \"123\")"
   ]
  },
  {
   "cell_type": "code",
   "execution_count": 55,
   "metadata": {},
   "outputs": [
    {
     "data": {
      "text/plain": [
       "'xyz123abc456abc678'"
      ]
     },
     "execution_count": 55,
     "metadata": {},
     "output_type": "execute_result"
    }
   ],
   "source": [
    "s= \"abc123abc456abc678\"\n",
    "s.replace(\"abc\", \"xyz\", 1) # write a function and press shift + tab for the decripstion"
   ]
  },
  {
   "cell_type": "code",
   "execution_count": 56,
   "metadata": {},
   "outputs": [
    {
     "data": {
      "text/plain": [
       "['good', 'afternoon', 'all']"
      ]
     },
     "execution_count": 56,
     "metadata": {},
     "output_type": "execute_result"
    }
   ],
   "source": [
    "s = \"good afternoon all\"\n",
    "s.split()"
   ]
  },
  {
   "cell_type": "code",
   "execution_count": 57,
   "metadata": {},
   "outputs": [
    {
     "data": {
      "text/plain": [
       "['good', 'afternoon', 'all']"
      ]
     },
     "execution_count": 57,
     "metadata": {},
     "output_type": "execute_result"
    }
   ],
   "source": [
    "s = \"good,afternoon,all\"\n",
    "s.split(\",\")"
   ]
  },
  {
   "cell_type": "code",
   "execution_count": 59,
   "metadata": {},
   "outputs": [
    {
     "name": "stdout",
     "output_type": "stream",
     "text": [
      "Hello\n",
      "Hello   \n",
      "   Hello\n"
     ]
    }
   ],
   "source": [
    "s = \"   Hello   \"\n",
    "print(s.strip())\n",
    "print (s.lstrip())\n",
    "print (s.rstrip())"
   ]
  },
  {
   "cell_type": "code",
   "execution_count": 61,
   "metadata": {},
   "outputs": [
    {
     "name": "stdout",
     "output_type": "stream",
     "text": [
      "12\n"
     ]
    },
    {
     "data": {
      "text/plain": [
       "False"
      ]
     },
     "execution_count": 61,
     "metadata": {},
     "output_type": "execute_result"
    }
   ],
   "source": [
    "s = \"abcedfg123@$\"\n",
    "print(len(s))\n",
    "s.isalnum()\n",
    "      "
   ]
  },
  {
   "cell_type": "code",
   "execution_count": 62,
   "metadata": {},
   "outputs": [
    {
     "data": {
      "text/plain": [
       "True"
      ]
     },
     "execution_count": 62,
     "metadata": {},
     "output_type": "execute_result"
    }
   ],
   "source": [
    "letter = \"i\"\n",
    "vowels = \"aeiou\"\n",
    "letter in vowels"
   ]
  },
  {
   "cell_type": "markdown",
   "metadata": {},
   "source": [
    "## Functions"
   ]
  },
  {
   "cell_type": "markdown",
   "metadata": {},
   "source": [
    "1. Built in functions ex. len, min, max, islower etc..\n",
    "2. User defined functions\n",
    " - **Syntax**\n",
    " \n",
    "  **def func name (parameters):\n",
    "      statements\n",
    "      return (expression)**"
   ]
  },
  {
   "cell_type": "code",
   "execution_count": 2,
   "metadata": {},
   "outputs": [
    {
     "name": "stdout",
     "output_type": "stream",
     "text": [
      "Enter input here:madam\n",
      "Its a Palindrome\n"
     ]
    }
   ],
   "source": [
    "def palindrome(string):\n",
    "    if string[::-1] == string:\n",
    "        print (\"Its a Palindrome\")\n",
    "    else :\n",
    "        print(\"Its not a Palindrome\")\n",
    "\n",
    "string = input(\"Enter input here:\")\n",
    "palindrome(string)"
   ]
  },
  {
   "cell_type": "code",
   "execution_count": 3,
   "metadata": {},
   "outputs": [
    {
     "ename": "NameError",
     "evalue": "name 'madam' is not defined",
     "output_type": "error",
     "traceback": [
      "\u001b[1;31m---------------------------------------------------------------------------\u001b[0m",
      "\u001b[1;31mNameError\u001b[0m                                 Traceback (most recent call last)",
      "\u001b[1;32m<ipython-input-3-887910afdfb7>\u001b[0m in \u001b[0;36m<module>\u001b[1;34m\u001b[0m\n\u001b[1;32m----> 1\u001b[1;33m \u001b[0mpalindrome\u001b[0m\u001b[1;33m(\u001b[0m\u001b[0mmadam\u001b[0m\u001b[1;33m)\u001b[0m\u001b[1;33m\u001b[0m\u001b[1;33m\u001b[0m\u001b[0m\n\u001b[0m",
      "\u001b[1;31mNameError\u001b[0m: name 'madam' is not defined"
     ]
    }
   ],
   "source": [
    "palindrome(madam)"
   ]
  },
  {
   "cell_type": "code",
   "execution_count": 6,
   "metadata": {},
   "outputs": [
    {
     "ename": "SyntaxError",
     "evalue": "invalid syntax (<ipython-input-6-b8b2aefc3ebd>, line 17)",
     "output_type": "error",
     "traceback": [
      "\u001b[1;36m  File \u001b[1;32m\"<ipython-input-6-b8b2aefc3ebd>\"\u001b[1;36m, line \u001b[1;32m17\u001b[0m\n\u001b[1;33m    prime(n)\u001b[0m\n\u001b[1;37m        ^\u001b[0m\n\u001b[1;31mSyntaxError\u001b[0m\u001b[1;31m:\u001b[0m invalid syntax\n"
     ]
    }
   ],
   "source": [
    "def prime(n):\n",
    "    i = 1\n",
    "    for i in range (2, (n//2)+1):\n",
    "        if n % i == 0:\n",
    "            count +=1                    \n",
    "                    \n",
    "        if count == 0:\n",
    "            print(\"Prime Number\")\n",
    "        else:\n",
    "            print(\"not a prime number\")\n",
    "        \n",
    "            \n",
    "            \n",
    "        \n",
    "n = int(input(\"Enter a number:\")\n",
    "prime(n)\n",
    "        "
   ]
  },
  {
   "cell_type": "code",
   "execution_count": null,
   "metadata": {},
   "outputs": [],
   "source": []
  }
 ],
 "metadata": {
  "kernelspec": {
   "display_name": "Python 3",
   "language": "python",
   "name": "python3"
  },
  "language_info": {
   "codemirror_mode": {
    "name": "ipython",
    "version": 3
   },
   "file_extension": ".py",
   "mimetype": "text/x-python",
   "name": "python",
   "nbconvert_exporter": "python",
   "pygments_lexer": "ipython3",
   "version": "3.7.6"
  }
 },
 "nbformat": 4,
 "nbformat_minor": 4
}
