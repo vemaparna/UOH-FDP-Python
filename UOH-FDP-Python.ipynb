{
 "cells": [
  {
   "cell_type": "markdown",
   "metadata": {},
   "source": [
    "## Working with Jupyter Markdown\n",
    "Double click to edit the cell"
   ]
  },
  {
   "cell_type": "markdown",
   "metadata": {},
   "source": [
    "# UOH-FDP-Python\n",
    "## UOH-FDP-Python\n",
    "### UOH-FDP-Python\n",
    "### UOH-FDP-Python\n",
    "#### UOH-FDP-Python\n",
    "##### UOH-FDP-Python\n",
    "###### UOH-FDP-Python"
   ]
  },
  {
   "cell_type": "markdown",
   "metadata": {},
   "source": [
    "## UOH- FDP- Python\n",
    "- *Day3 Schedule*\n",
    " - ***Intro to Python***\n",
    "   - **With Jupyter Notebook**\n"
   ]
  },
  {
   "cell_type": "markdown",
   "metadata": {},
   "source": [
    "1. **Day 1**- Scratch program\n",
    "2. **Day 2** - Raptor\n",
    "3. **Day 3** - Jupyter Notebook"
   ]
  },
  {
   "cell_type": "markdown",
   "metadata": {},
   "source": [
    "***\n",
    "   Python Programing with Jupyter\n",
    "***"
   ]
  },
  {
   "cell_type": "markdown",
   "metadata": {},
   "source": [
    "`\n",
    "   Programming code\n",
    "`"
   ]
  },
  {
   "cell_type": "markdown",
   "metadata": {},
   "source": [
    "<img src = 'python.png' width = '200px' height = '200px' align = left />\n",
    "<img src = 'python.png' width = '200px' height = '200px' align = right/>"
   ]
  },
  {
   "cell_type": "markdown",
   "metadata": {},
   "source": [
    "#### Links\n",
    "[Google](https://google.com) <br/>\n",
    "[Python](www.python.org)"
   ]
  },
  {
   "cell_type": "code",
   "execution_count": null,
   "metadata": {},
   "outputs": [],
   "source": []
  }
 ],
 "metadata": {
  "kernelspec": {
   "display_name": "Python 3",
   "language": "python",
   "name": "python3"
  },
  "language_info": {
   "codemirror_mode": {
    "name": "ipython",
    "version": 3
   },
   "file_extension": ".py",
   "mimetype": "text/x-python",
   "name": "python",
   "nbconvert_exporter": "python",
   "pygments_lexer": "ipython3",
   "version": "3.7.6"
  }
 },
 "nbformat": 4,
 "nbformat_minor": 4
}
